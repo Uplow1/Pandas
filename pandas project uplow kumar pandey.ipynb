{
 "cells": [
  {
   "cell_type": "code",
   "execution_count": 27,
   "id": "edb271ef",
   "metadata": {},
   "outputs": [],
   "source": [
    "#Pandas project"
   ]
  },
  {
   "cell_type": "code",
   "execution_count": 28,
   "id": "7f5a9c05",
   "metadata": {},
   "outputs": [],
   "source": [
    "import pandas as pd"
   ]
  },
  {
   "cell_type": "code",
   "execution_count": 29,
   "id": "e6b407e2",
   "metadata": {},
   "outputs": [
    {
     "name": "stdout",
     "output_type": "stream",
     "text": [
      "                                  Film    Genre            Lead Studio  \\\n",
      "0           Zack and Miri Make a Porno  Romance  The Weinstein Company   \n",
      "1                      Youth in Revolt   Comedy  The Weinstein Company   \n",
      "2   You Will Meet a Tall Dark Stranger   Comedy            Independent   \n",
      "3                         When in Rome   Comedy                 Disney   \n",
      "4                What Happens in Vegas   Comedy                    Fox   \n",
      "..                                 ...      ...                    ...   \n",
      "72                 Across the Universe  romance            Independent   \n",
      "73                       A Serious Man    Drama              Universal   \n",
      "74                  A Dangerous Method    Drama            Independent   \n",
      "75                          27 Dresses   Comedy                    Fox   \n",
      "76                (500) Days of Summer   comedy                    Fox   \n",
      "\n",
      "    Audience score %  Profitability  Rotten Tomatoes % Worldwide Gross  Year  \n",
      "0                 70       1.747542                 64         $41.94   2008  \n",
      "1                 52       1.090000                 68         $19.62   2010  \n",
      "2                 35       1.211818                 43         $26.66   2010  \n",
      "3                 44       0.000000                 15         $43.04   2010  \n",
      "4                 72       6.267647                 28        $219.37   2008  \n",
      "..               ...            ...                ...             ...   ...  \n",
      "72                84       0.652603                 54         $29.37   2007  \n",
      "73                64       4.382857                 89         $30.68   2009  \n",
      "74                89       0.448645                 79          $8.97   2011  \n",
      "75                71       5.343622                 40        $160.31   2008  \n",
      "76                81       8.096000                 87         $60.72   2009  \n",
      "\n",
      "[77 rows x 8 columns]\n"
     ]
    }
   ],
   "source": [
    "data = pd.read_csv('movies.csv')\n",
    "print(data)"
   ]
  },
  {
   "cell_type": "code",
   "execution_count": 30,
   "id": "21698955",
   "metadata": {},
   "outputs": [
    {
     "name": "stdout",
     "output_type": "stream",
     "text": [
      "                                  Film   Genre            Lead Studio  \\\n",
      "1                      Youth in Revolt  Comedy  The Weinstein Company   \n",
      "2   You Will Meet a Tall Dark Stranger  Comedy            Independent   \n",
      "3                         When in Rome  Comedy                 Disney   \n",
      "4                What Happens in Vegas  Comedy                    Fox   \n",
      "9                      Valentine's Day  Comedy           Warner Bros.   \n",
      "13                      The Ugly Truth  Comedy            Independent   \n",
      "16                        The Proposal  Comedy                 Disney   \n",
      "17              The Invention of Lying  Comedy           Warner Bros.   \n",
      "18                  The Heartbreak Kid  Comedy              Paramount   \n",
      "21                    The Back-up Plan  Comedy                    CBS   \n",
      "24              She's Out of My League  Comedy              Paramount   \n",
      "25                Sex and the City Two  Comedy           Warner Bros.   \n",
      "26                  Sex and the City 2  Comedy           Warner Bros.   \n",
      "27                    Sex and the City  Comedy           Warner Bros.   \n",
      "30                            Penelope  Comedy                 Summit   \n",
      "32                  Over Her Dead Body  Comedy               New Line   \n",
      "33                  Our Family Wedding  Comedy            Independent   \n",
      "36                     No Reservations  Comedy           Warner Bros.   \n",
      "37  Nick and Norah's Infinite Playlist  Comedy                   Sony   \n",
      "42      Miss Pettigrew Lives for a Day  Comedy            Independent   \n",
      "44                       Marley and Me  Comedy                    Fox   \n",
      "45                          Mamma Mia!  Comedy              Universal   \n",
      "46                          Mamma Mia!  Comedy              Universal   \n",
      "49                  Love & Other Drugs  Comedy                    Fox   \n",
      "50                  Life as We Know It  Comedy            Independent   \n",
      "51                      License to Wed  Comedy           Warner Bros.   \n",
      "52                   Letters to Juliet  Comedy                 Summit   \n",
      "53                           Leap Year  Comedy              Universal   \n",
      "54                          Knocked Up  Comedy              Universal   \n",
      "56                         Just Wright  Comedy                    Fox   \n",
      "58                    It's Complicated  Comedy              Universal   \n",
      "59           I Love You Phillip Morris  Comedy            Independent   \n",
      "60  High School Musical 3: Senior Year  Comedy                 Disney   \n",
      "61         He's Just Not That Into You  Comedy           Warner Bros.   \n",
      "62                     Good Luck Chuck  Comedy              Lionsgate   \n",
      "63                  Going the Distance  Comedy           Warner Bros.   \n",
      "66          Ghosts of Girlfriends Past  Comedy           Warner Bros.   \n",
      "67                    Four Christmases  Comedy           Warner Bros.   \n",
      "69                           Enchanted  Comedy                 Disney   \n",
      "71                           Beginners  Comedy            Independent   \n",
      "75                          27 Dresses  Comedy                    Fox   \n",
      "\n",
      "    Audience score %  Profitability  Rotten Tomatoes % Worldwide Gross  Year  \n",
      "1                 52       1.090000                 68         $19.62   2010  \n",
      "2                 35       1.211818                 43         $26.66   2010  \n",
      "3                 44       0.000000                 15         $43.04   2010  \n",
      "4                 72       6.267647                 28        $219.37   2008  \n",
      "9                 54       4.184038                 17        $217.57   2010  \n",
      "13                68       5.402632                 14        $205.30   2009  \n",
      "16                74       7.867500                 43        $314.70   2009  \n",
      "17                47       1.751351                 56         $32.40   2009  \n",
      "18                41       2.129444                 30        $127.77   2007  \n",
      "21                47       2.202571                 20         $77.09   2010  \n",
      "24                60       2.440500                 57         $48.81   2010  \n",
      "25                49       2.883500                 15        $288.35   2010  \n",
      "26                49       2.883500                 15        $288.35   2010  \n",
      "27                81       7.221796                 49        $415.25   2008  \n",
      "30                74       1.382800                 52         $20.74   2008  \n",
      "32                47       2.071000                 15         $20.71   2008  \n",
      "33                49       0.000000                 14         $21.37   2010  \n",
      "36                64       3.307180                 39         $92.60   2007  \n",
      "37                67       3.352729                 73         $33.53   2008  \n",
      "42                70       0.252895                 78         $15.17   2008  \n",
      "44                77       3.746782                 63        $206.07   2008  \n",
      "45                76       9.234454                 53        $609.47   2008  \n",
      "46                76       9.234454                 53        $609.47   2008  \n",
      "49                55       1.817667                 48         $54.53   2010  \n",
      "50                62       2.530526                 28         $96.16   2010  \n",
      "51                55       1.980206                  8         $69.31   2007  \n",
      "52                62       2.639333                 40         $79.18   2010  \n",
      "53                49       1.715263                 21         $32.59   2010  \n",
      "54                83       6.636402                 91           $219   2007  \n",
      "56                58       1.797417                 45         $21.57   2010  \n",
      "58                63       2.642353                 56        $224.60   2009  \n",
      "59                57       1.340000                 71         $20.10   2010  \n",
      "60                76      22.913136                 65        $252.04   2008  \n",
      "61                60       7.153600                 42        $178.84   2009  \n",
      "62                61       2.367685                  3         $59.19   2007  \n",
      "63                56       1.314062                 53         $42.05   2010  \n",
      "66                47       2.044400                 27        $102.22   2009  \n",
      "67                52       2.022925                 26        $161.83   2008  \n",
      "69                80       4.005737                 93        $340.49   2007  \n",
      "71                80       4.471875                 84         $14.31   2011  \n",
      "75                71       5.343622                 40        $160.31   2008  \n"
     ]
    }
   ],
   "source": [
    "comedy_movies = data[data['Genre'] == 'Comedy']\n",
    "print(comedy_movies)"
   ]
  },
  {
   "cell_type": "code",
   "execution_count": 31,
   "id": "8450fc4e",
   "metadata": {},
   "outputs": [
    {
     "name": "stdout",
     "output_type": "stream",
     "text": [
      "                                   Film    Genre            Lead Studio  \\\n",
      "0            Zack and Miri Make a Porno  Romance  The Weinstein Company   \n",
      "7                              Waitress  Romance            Independent   \n",
      "8                   Waiting For Forever  Romance            Independent   \n",
      "10  Tyler Perry's Why Did I get Married  Romance            Independent   \n",
      "11              Twilight: Breaking Dawn  Romance            Independent   \n",
      "12                             Twilight  Romance                 Summit   \n",
      "23                   Something Borrowed  Romance            Independent   \n",
      "31                      P.S. I Love You  Romance            Independent   \n",
      "34                              One Day  Romance            Independent   \n",
      "38                       New Year's Eve  Romance           Warner Bros.   \n",
      "40                     Music and Lyrics  Romance           Warner Bros.   \n",
      "41                          Monte Carlo  Romance       20th Century Fox   \n",
      "57                            Jane Eyre  Romance              Universal   \n",
      "\n",
      "    Audience score %  Profitability  Rotten Tomatoes % Worldwide Gross  Year  \n",
      "0                 70       1.747542                 64         $41.94   2008  \n",
      "7                 67      11.089742                 89         $22.18   2007  \n",
      "8                 53       0.005000                  6          $0.03   2011  \n",
      "10                47       3.724192                 46         $55.86   2007  \n",
      "11                68       6.383364                 26        $702.17   2011  \n",
      "12                82      10.180027                 49        $376.66   2008  \n",
      "23                48       1.719514                 15         $60.18   2011  \n",
      "31                82       5.103117                 21        $153.09   2007  \n",
      "34                54       3.682733                 37         $55.24   2011  \n",
      "38                48       2.536429                  8        $142.04   2011  \n",
      "40                70       3.647411                 63        $145.90   2007  \n",
      "41                50       1.983200                 38         $39.66   2011  \n",
      "57                77       0.000000                 85         $30.15   2011  \n"
     ]
    }
   ],
   "source": [
    "romance_movies = data[data['Genre'] == 'Romance']\n",
    "print(romance_movies)"
   ]
  },
  {
   "cell_type": "code",
   "execution_count": 32,
   "id": "58a4ad3d",
   "metadata": {},
   "outputs": [
    {
     "name": "stdout",
     "output_type": "stream",
     "text": [
      "                       Film      Genre            Lead Studio  \\\n",
      "5       Water For Elephants      Drama       20th Century Fox   \n",
      "8       Waiting For Forever    Romance            Independent   \n",
      "11  Twilight: Breaking Dawn    Romance            Independent   \n",
      "23       Something Borrowed    Romance            Independent   \n",
      "34                  One Day    Romance            Independent   \n",
      "38           New Year's Eve    Romance           Warner Bros.   \n",
      "39     My Week with Marilyn      Drama  The Weinstein Company   \n",
      "41              Monte Carlo    Romance       20th Century Fox   \n",
      "43        Midnight in Paris    Romence                   Sony   \n",
      "57                Jane Eyre    Romance              Universal   \n",
      "64        Gnomeo and Juliet  Animation                 Disney   \n",
      "65        Gnomeo and Juliet  Animation                 Disney   \n",
      "71                Beginners     Comedy            Independent   \n",
      "74       A Dangerous Method      Drama            Independent   \n",
      "\n",
      "    Audience score %  Profitability  Rotten Tomatoes % Worldwide Gross  Year  \n",
      "5                 72       3.081421                 60        $117.09   2011  \n",
      "8                 53       0.005000                  6          $0.03   2011  \n",
      "11                68       6.383364                 26        $702.17   2011  \n",
      "23                48       1.719514                 15         $60.18   2011  \n",
      "34                54       3.682733                 37         $55.24   2011  \n",
      "38                48       2.536429                  8        $142.04   2011  \n",
      "39                84       0.825800                 83          $8.26   2011  \n",
      "41                50       1.983200                 38         $39.66   2011  \n",
      "43                84       8.744706                 93        $148.66   2011  \n",
      "57                77       0.000000                 85         $30.15   2011  \n",
      "64                52       5.387972                 56        $193.97   2011  \n",
      "65                52       5.387972                 56        $193.97   2011  \n",
      "71                80       4.471875                 84         $14.31   2011  \n",
      "74                89       0.448645                 79          $8.97   2011  \n"
     ]
    }
   ],
   "source": [
    "movies_2011 = data[data['Year'] == 2011]\n",
    "print(movies_2011)"
   ]
  },
  {
   "cell_type": "code",
   "execution_count": 33,
   "id": "3b6780a2",
   "metadata": {},
   "outputs": [
    {
     "name": "stdout",
     "output_type": "stream",
     "text": [
      "                                   Film      Genre            Lead Studio  \\\n",
      "0            Zack and Miri Make a Porno    Romance  The Weinstein Company   \n",
      "4                 What Happens in Vegas     Comedy                    Fox   \n",
      "6                                WALL-E  Animation                 Disney   \n",
      "12                             Twilight    Romance                 Summit   \n",
      "19                          The Duchess      Drama              Paramount   \n",
      "20  The Curious Case of Benjamin Button    Fantasy           Warner Bros.   \n",
      "27                     Sex and the City     Comedy           Warner Bros.   \n",
      "29               Rachel Getting Married      Drama            Independent   \n",
      "30                             Penelope     Comedy                 Summit   \n",
      "32                   Over Her Dead Body     Comedy               New Line   \n",
      "37   Nick and Norah's Infinite Playlist     Comedy                   Sony   \n",
      "42       Miss Pettigrew Lives for a Day     Comedy            Independent   \n",
      "44                        Marley and Me     Comedy                    Fox   \n",
      "45                           Mamma Mia!     Comedy              Universal   \n",
      "46                           Mamma Mia!     Comedy              Universal   \n",
      "47                        Made of Honor      Comdy                   Sony   \n",
      "60   High School Musical 3: Senior Year     Comedy                 Disney   \n",
      "67                     Four Christmases     Comedy           Warner Bros.   \n",
      "68                            Fireproof      Drama            Independent   \n",
      "75                           27 Dresses     Comedy                    Fox   \n",
      "\n",
      "    Audience score %  Profitability  Rotten Tomatoes % Worldwide Gross  Year  \n",
      "0                 70       1.747542                 64         $41.94   2008  \n",
      "4                 72       6.267647                 28        $219.37   2008  \n",
      "6                 89       2.896019                 96        $521.28   2008  \n",
      "12                82      10.180027                 49        $376.66   2008  \n",
      "19                68       3.207850                 60         $43.31   2008  \n",
      "20                81       1.783944                 73        $285.43   2008  \n",
      "27                81       7.221796                 49        $415.25   2008  \n",
      "29                61       1.384167                 85         $16.61   2008  \n",
      "30                74       1.382800                 52         $20.74   2008  \n",
      "32                47       2.071000                 15         $20.71   2008  \n",
      "37                67       3.352729                 73         $33.53   2008  \n",
      "42                70       0.252895                 78         $15.17   2008  \n",
      "44                77       3.746782                 63        $206.07   2008  \n",
      "45                76       9.234454                 53        $609.47   2008  \n",
      "46                76       9.234454                 53        $609.47   2008  \n",
      "47                61       2.649068                 13        $105.96   2008  \n",
      "60                76      22.913136                 65        $252.04   2008  \n",
      "67                52       2.022925                 26        $161.83   2008  \n",
      "68                51      66.934000                 40         $33.47   2008  \n",
      "75                71       5.343622                 40        $160.31   2008  \n"
     ]
    }
   ],
   "source": [
    "movies_2011 = data[data['Year'] == 2008]\n",
    "print(movies_2011)"
   ]
  },
  {
   "cell_type": "code",
   "execution_count": 34,
   "id": "2f532ea4",
   "metadata": {},
   "outputs": [
    {
     "name": "stdout",
     "output_type": "stream",
     "text": [
      "                                   Film      Genre            Lead Studio  \\\n",
      "4                 What Happens in Vegas     Comedy                    Fox   \n",
      "5                   Water For Elephants      Drama       20th Century Fox   \n",
      "6                                WALL-E  Animation                 Disney   \n",
      "12                             Twilight    Romance                 Summit   \n",
      "14          The Twilight Saga: New Moon      Drama                 Summit   \n",
      "16                         The Proposal     Comedy                 Disney   \n",
      "20  The Curious Case of Benjamin Button    Fantasy           Warner Bros.   \n",
      "22                              Tangled  Animation                 Disney   \n",
      "27                     Sex and the City     Comedy           Warner Bros.   \n",
      "30                             Penelope     Comedy                 Summit   \n",
      "31                      P.S. I Love You    Romance            Independent   \n",
      "39                 My Week with Marilyn      Drama  The Weinstein Company   \n",
      "43                    Midnight in Paris    Romence                   Sony   \n",
      "44                        Marley and Me     Comedy                    Fox   \n",
      "45                           Mamma Mia!     Comedy              Universal   \n",
      "46                           Mamma Mia!     Comedy              Universal   \n",
      "54                           Knocked Up     Comedy              Universal   \n",
      "57                            Jane Eyre    Romance              Universal   \n",
      "60   High School Musical 3: Senior Year     Comedy                 Disney   \n",
      "69                            Enchanted     Comedy                 Disney   \n",
      "71                            Beginners     Comedy            Independent   \n",
      "72                  Across the Universe    romance            Independent   \n",
      "74                   A Dangerous Method      Drama            Independent   \n",
      "75                           27 Dresses     Comedy                    Fox   \n",
      "76                 (500) Days of Summer     comedy                    Fox   \n",
      "\n",
      "    Audience score %  Profitability  Rotten Tomatoes % Worldwide Gross  Year  \n",
      "4                 72       6.267647                 28        $219.37   2008  \n",
      "5                 72       3.081421                 60        $117.09   2011  \n",
      "6                 89       2.896019                 96        $521.28   2008  \n",
      "12                82      10.180027                 49        $376.66   2008  \n",
      "14                78      14.196400                 27        $709.82   2009  \n",
      "16                74       7.867500                 43        $314.70   2009  \n",
      "20                81       1.783944                 73        $285.43   2008  \n",
      "22                88       1.365692                 89        $355.01   2010  \n",
      "27                81       7.221796                 49        $415.25   2008  \n",
      "30                74       1.382800                 52         $20.74   2008  \n",
      "31                82       5.103117                 21        $153.09   2007  \n",
      "39                84       0.825800                 83          $8.26   2011  \n",
      "43                84       8.744706                 93        $148.66   2011  \n",
      "44                77       3.746782                 63        $206.07   2008  \n",
      "45                76       9.234454                 53        $609.47   2008  \n",
      "46                76       9.234454                 53        $609.47   2008  \n",
      "54                83       6.636402                 91           $219   2007  \n",
      "57                77       0.000000                 85         $30.15   2011  \n",
      "60                76      22.913136                 65        $252.04   2008  \n",
      "69                80       4.005737                 93        $340.49   2007  \n",
      "71                80       4.471875                 84         $14.31   2011  \n",
      "72                84       0.652603                 54         $29.37   2007  \n",
      "74                89       0.448645                 79          $8.97   2011  \n",
      "75                71       5.343622                 40        $160.31   2008  \n",
      "76                81       8.096000                 87         $60.72   2009  \n"
     ]
    }
   ],
   "source": [
    "Audience= data[data['Audience score %'] > 70]\n",
    "print(Audience)"
   ]
  },
  {
   "cell_type": "code",
   "execution_count": 35,
   "id": "efe5e915",
   "metadata": {},
   "outputs": [
    {
     "name": "stdout",
     "output_type": "stream",
     "text": [
      "                                   Film      Genre            Lead Studio  \\\n",
      "4                 What Happens in Vegas     Comedy                    Fox   \n",
      "5                   Water For Elephants      Drama       20th Century Fox   \n",
      "6                                WALL-E  Animation                 Disney   \n",
      "12                             Twilight    Romance                 Summit   \n",
      "14          The Twilight Saga: New Moon      Drama                 Summit   \n",
      "16                         The Proposal     Comedy                 Disney   \n",
      "20  The Curious Case of Benjamin Button    Fantasy           Warner Bros.   \n",
      "22                              Tangled  Animation                 Disney   \n",
      "27                     Sex and the City     Comedy           Warner Bros.   \n",
      "30                             Penelope     Comedy                 Summit   \n",
      "31                      P.S. I Love You    Romance            Independent   \n",
      "39                 My Week with Marilyn      Drama  The Weinstein Company   \n",
      "43                    Midnight in Paris    Romence                   Sony   \n",
      "44                        Marley and Me     Comedy                    Fox   \n",
      "45                           Mamma Mia!     Comedy              Universal   \n",
      "46                           Mamma Mia!     Comedy              Universal   \n",
      "54                           Knocked Up     Comedy              Universal   \n",
      "57                            Jane Eyre    Romance              Universal   \n",
      "60   High School Musical 3: Senior Year     Comedy                 Disney   \n",
      "69                            Enchanted     Comedy                 Disney   \n",
      "71                            Beginners     Comedy            Independent   \n",
      "72                  Across the Universe    romance            Independent   \n",
      "74                   A Dangerous Method      Drama            Independent   \n",
      "75                           27 Dresses     Comedy                    Fox   \n",
      "76                 (500) Days of Summer     comedy                    Fox   \n",
      "\n",
      "    Audience score %  Profitability  Rotten Tomatoes % Worldwide Gross  Year  \n",
      "4                 72       6.267647                 28        $219.37   2008  \n",
      "5                 72       3.081421                 60        $117.09   2011  \n",
      "6                 89       2.896019                 96        $521.28   2008  \n",
      "12                82      10.180027                 49        $376.66   2008  \n",
      "14                78      14.196400                 27        $709.82   2009  \n",
      "16                74       7.867500                 43        $314.70   2009  \n",
      "20                81       1.783944                 73        $285.43   2008  \n",
      "22                88       1.365692                 89        $355.01   2010  \n",
      "27                81       7.221796                 49        $415.25   2008  \n",
      "30                74       1.382800                 52         $20.74   2008  \n",
      "31                82       5.103117                 21        $153.09   2007  \n",
      "39                84       0.825800                 83          $8.26   2011  \n",
      "43                84       8.744706                 93        $148.66   2011  \n",
      "44                77       3.746782                 63        $206.07   2008  \n",
      "45                76       9.234454                 53        $609.47   2008  \n",
      "46                76       9.234454                 53        $609.47   2008  \n",
      "54                83       6.636402                 91           $219   2007  \n",
      "57                77       0.000000                 85         $30.15   2011  \n",
      "60                76      22.913136                 65        $252.04   2008  \n",
      "69                80       4.005737                 93        $340.49   2007  \n",
      "71                80       4.471875                 84         $14.31   2011  \n",
      "72                84       0.652603                 54         $29.37   2007  \n",
      "74                89       0.448645                 79          $8.97   2011  \n",
      "75                71       5.343622                 40        $160.31   2008  \n",
      "76                81       8.096000                 87         $60.72   2009  \n"
     ]
    }
   ],
   "source": [
    "low_Audience= data[data['Audience score %'] <40]\n",
    "print(Audience)"
   ]
  },
  {
   "cell_type": "code",
   "execution_count": 36,
   "id": "1a3ac358",
   "metadata": {},
   "outputs": [
    {
     "name": "stdout",
     "output_type": "stream",
     "text": [
      "                          Film    Genre            Lead Studio  \\\n",
      "0   Zack and Miri Make a Porno  Romance  The Weinstein Company   \n",
      "1              Youth in Revolt   Comedy  The Weinstein Company   \n",
      "39        My Week with Marilyn    Drama  The Weinstein Company   \n",
      "\n",
      "    Audience score %  Profitability  Rotten Tomatoes % Worldwide Gross  Year  \n",
      "0                 70       1.747542                 64         $41.94   2008  \n",
      "1                 52       1.090000                 68         $19.62   2010  \n",
      "39                84       0.825800                 83          $8.26   2011  \n"
     ]
    }
   ],
   "source": [
    "movies_2011 = data[data['Lead Studio'] == 'The Weinstein Company']\n",
    "print(movies_2011)"
   ]
  },
  {
   "cell_type": "code",
   "execution_count": 37,
   "id": "b9cf3b55",
   "metadata": {},
   "outputs": [
    {
     "name": "stdout",
     "output_type": "stream",
     "text": [
      "                                   Film      Genre            Lead Studio  \\\n",
      "4                 What Happens in Vegas     Comedy                    Fox   \n",
      "5                   Water For Elephants      Drama       20th Century Fox   \n",
      "6                                WALL-E  Animation                 Disney   \n",
      "12                             Twilight    Romance                 Summit   \n",
      "14          The Twilight Saga: New Moon      Drama                 Summit   \n",
      "16                         The Proposal     Comedy                 Disney   \n",
      "20  The Curious Case of Benjamin Button    Fantasy           Warner Bros.   \n",
      "22                              Tangled  Animation                 Disney   \n",
      "27                     Sex and the City     Comedy           Warner Bros.   \n",
      "30                             Penelope     Comedy                 Summit   \n",
      "31                      P.S. I Love You    Romance            Independent   \n",
      "39                 My Week with Marilyn      Drama  The Weinstein Company   \n",
      "43                    Midnight in Paris    Romence                   Sony   \n",
      "44                        Marley and Me     Comedy                    Fox   \n",
      "45                           Mamma Mia!     Comedy              Universal   \n",
      "46                           Mamma Mia!     Comedy              Universal   \n",
      "54                           Knocked Up     Comedy              Universal   \n",
      "57                            Jane Eyre    Romance              Universal   \n",
      "60   High School Musical 3: Senior Year     Comedy                 Disney   \n",
      "69                            Enchanted     Comedy                 Disney   \n",
      "71                            Beginners     Comedy            Independent   \n",
      "72                  Across the Universe    romance            Independent   \n",
      "74                   A Dangerous Method      Drama            Independent   \n",
      "75                           27 Dresses     Comedy                    Fox   \n",
      "76                 (500) Days of Summer     comedy                    Fox   \n",
      "\n",
      "    Audience score %  Profitability  Rotten Tomatoes % Worldwide Gross  Year  \n",
      "4                 72       6.267647                 28        $219.37   2008  \n",
      "5                 72       3.081421                 60        $117.09   2011  \n",
      "6                 89       2.896019                 96        $521.28   2008  \n",
      "12                82      10.180027                 49        $376.66   2008  \n",
      "14                78      14.196400                 27        $709.82   2009  \n",
      "16                74       7.867500                 43        $314.70   2009  \n",
      "20                81       1.783944                 73        $285.43   2008  \n",
      "22                88       1.365692                 89        $355.01   2010  \n",
      "27                81       7.221796                 49        $415.25   2008  \n",
      "30                74       1.382800                 52         $20.74   2008  \n",
      "31                82       5.103117                 21        $153.09   2007  \n",
      "39                84       0.825800                 83          $8.26   2011  \n",
      "43                84       8.744706                 93        $148.66   2011  \n",
      "44                77       3.746782                 63        $206.07   2008  \n",
      "45                76       9.234454                 53        $609.47   2008  \n",
      "46                76       9.234454                 53        $609.47   2008  \n",
      "54                83       6.636402                 91           $219   2007  \n",
      "57                77       0.000000                 85         $30.15   2011  \n",
      "60                76      22.913136                 65        $252.04   2008  \n",
      "69                80       4.005737                 93        $340.49   2007  \n",
      "71                80       4.471875                 84         $14.31   2011  \n",
      "72                84       0.652603                 54         $29.37   2007  \n",
      "74                89       0.448645                 79          $8.97   2011  \n",
      "75                71       5.343622                 40        $160.31   2008  \n",
      "76                81       8.096000                 87         $60.72   2009  \n"
     ]
    }
   ],
   "source": [
    "data = pd.read_csv('movies.csv')\n",
    "filtered_data = data[(data['Lead Studio'].notnull()) & (data['Audience score %'] > 70)]\n",
    "print(filtered_data)"
   ]
  },
  {
   "cell_type": "code",
   "execution_count": 38,
   "id": "a7c3a322",
   "metadata": {},
   "outputs": [
    {
     "name": "stdout",
     "output_type": "stream",
     "text": [
      "                                   Film    Genre   Lead Studio  \\\n",
      "2    You Will Meet a Tall Dark Stranger   Comedy   Independent   \n",
      "3                          When in Rome   Comedy        Disney   \n",
      "10  Tyler Perry's Why Did I get Married  Romance   Independent   \n",
      "17               The Invention of Lying   Comedy  Warner Bros.   \n",
      "18                   The Heartbreak Kid   Comedy     Paramount   \n",
      "21                     The Back-up Plan   Comedy           CBS   \n",
      "23                   Something Borrowed  Romance   Independent   \n",
      "25                 Sex and the City Two   Comedy  Warner Bros.   \n",
      "26                   Sex and the City 2   Comedy  Warner Bros.   \n",
      "32                   Over Her Dead Body   Comedy      New Line   \n",
      "33                   Our Family Wedding   Comedy   Independent   \n",
      "38                       New Year's Eve  Romance  Warner Bros.   \n",
      "48                         Love Happens    Drama     Universal   \n",
      "53                            Leap Year   Comedy     Universal   \n",
      "55                              Killers   Action     Lionsgate   \n",
      "66           Ghosts of Girlfriends Past   Comedy  Warner Bros.   \n",
      "\n",
      "    Audience score %  Profitability  Rotten Tomatoes % Worldwide Gross  Year  \n",
      "2                 35       1.211818                 43         $26.66   2010  \n",
      "3                 44       0.000000                 15         $43.04   2010  \n",
      "10                47       3.724192                 46         $55.86   2007  \n",
      "17                47       1.751351                 56         $32.40   2009  \n",
      "18                41       2.129444                 30        $127.77   2007  \n",
      "21                47       2.202571                 20         $77.09   2010  \n",
      "23                48       1.719514                 15         $60.18   2011  \n",
      "25                49       2.883500                 15        $288.35   2010  \n",
      "26                49       2.883500                 15        $288.35   2010  \n",
      "32                47       2.071000                 15         $20.71   2008  \n",
      "33                49       0.000000                 14         $21.37   2010  \n",
      "38                48       2.536429                  8        $142.04   2011  \n",
      "48                40       2.004444                 18         $36.08   2009  \n",
      "53                49       1.715263                 21         $32.59   2010  \n",
      "55                45       1.245333                 11         $93.40   2010  \n",
      "66                47       2.044400                 27        $102.22   2009  \n"
     ]
    }
   ],
   "source": [
    "data = pd.read_csv('movies.csv')\n",
    "low_score = data[(data['Lead Studio'].notnull()) & (data['Audience score %'] < 50)]\n",
    "print(low_score)"
   ]
  },
  {
   "cell_type": "code",
   "execution_count": 39,
   "id": "7bcd7d6a",
   "metadata": {},
   "outputs": [
    {
     "name": "stdout",
     "output_type": "stream",
     "text": [
      "Warner Bros.\n"
     ]
    }
   ],
   "source": [
    "maxx = data['Lead Studio'].max()\n",
    "print(maxx)"
   ]
  },
  {
   "cell_type": "code",
   "execution_count": 40,
   "id": "3ab51b46",
   "metadata": {},
   "outputs": [
    {
     "name": "stdout",
     "output_type": "stream",
     "text": [
      "20th Century Fox\n"
     ]
    }
   ],
   "source": [
    "minn = data['Lead Studio'].min()\n",
    "print(minn)"
   ]
  },
  {
   "cell_type": "code",
   "execution_count": 41,
   "id": "03524eb6",
   "metadata": {},
   "outputs": [
    {
     "name": "stdout",
     "output_type": "stream",
     "text": [
      "50    Independent\n",
      "Name: Lead Studio, dtype: object\n"
     ]
    }
   ],
   "source": [
    "max_earning_movie = data[data['Worldwide Gross'] == data['Worldwide Gross'].max()]['Lead Studio']\n",
    "print(max_earning_movie)"
   ]
  },
  {
   "cell_type": "code",
   "execution_count": 42,
   "id": "f7e27a5e",
   "metadata": {},
   "outputs": [
    {
     "name": "stdout",
     "output_type": "stream",
     "text": [
      "                  Film   Genre  Lead Studio  Audience score %  Profitability  \\\n",
      "50  Life as We Know It  Comedy  Independent                62       2.530526   \n",
      "\n",
      "    Rotten Tomatoes % Worldwide Gross  Year  \n",
      "50                 28         $96.16   2010  \n"
     ]
    }
   ],
   "source": [
    "max_earning = data[data['Worldwide Gross'] == data['Worldwide Gross'].max()]\n",
    "print(max_earning)"
   ]
  },
  {
   "cell_type": "code",
   "execution_count": 43,
   "id": "88f4ed50",
   "metadata": {},
   "outputs": [
    {
     "name": "stdout",
     "output_type": "stream",
     "text": [
      "                  Film    Genre  Lead Studio  Audience score %  Profitability  \\\n",
      "8  Waiting For Forever  Romance  Independent                53          0.005   \n",
      "\n",
      "   Rotten Tomatoes % Worldwide Gross  Year  \n",
      "8                  6          $0.03   2011  \n"
     ]
    }
   ],
   "source": [
    "low_score = data[data['Worldwide Gross'] == data['Worldwide Gross'].min()]\n",
    "print(low_score)"
   ]
  },
  {
   "cell_type": "code",
   "execution_count": 44,
   "id": "750e85ee",
   "metadata": {},
   "outputs": [
    {
     "name": "stdout",
     "output_type": "stream",
     "text": [
      "     Film      Genre Lead Studio  Audience score %  Profitability  \\\n",
      "6  WALL-E  Animation      Disney                89       2.896019   \n",
      "\n",
      "   Rotten Tomatoes % Worldwide Gross  Year  \n",
      "6                 96        $521.28   2008  \n"
     ]
    }
   ],
   "source": [
    "high_score1 = data[data['Rotten Tomatoes %'] == data['Rotten Tomatoes %'].max()]\n",
    "print(high_score1)"
   ]
  },
  {
   "cell_type": "code",
   "execution_count": 45,
   "id": "6dad03a8",
   "metadata": {},
   "outputs": [
    {
     "name": "stdout",
     "output_type": "stream",
     "text": [
      "               Film   Genre Lead Studio  Audience score %  Profitability  \\\n",
      "62  Good Luck Chuck  Comedy   Lionsgate                61       2.367685   \n",
      "\n",
      "    Rotten Tomatoes % Worldwide Gross  Year  \n",
      "62                  3         $59.19   2007  \n"
     ]
    }
   ],
   "source": [
    "low_score1 = data[data['Rotten Tomatoes %'] == data['Rotten Tomatoes %'].min()]\n",
    "print(low_score1)"
   ]
  },
  {
   "cell_type": "code",
   "execution_count": 46,
   "id": "56e27547",
   "metadata": {},
   "outputs": [
    {
     "name": "stdout",
     "output_type": "stream",
     "text": [
      "         Film  Genre  Lead Studio  Audience score %  Profitability  \\\n",
      "68  Fireproof  Drama  Independent                51         66.934   \n",
      "\n",
      "    Rotten Tomatoes % Worldwide Gross  Year  \n",
      "68                 40         $33.47   2008  \n"
     ]
    }
   ],
   "source": [
    "highest_score = data[data['Profitability'] == data['Profitability'].max()]\n",
    "print(highest_score)"
   ]
  },
  {
   "cell_type": "code",
   "execution_count": 47,
   "id": "56203eed",
   "metadata": {},
   "outputs": [
    {
     "name": "stdout",
     "output_type": "stream",
     "text": [
      "                  Film    Genre  Lead Studio  Audience score %  Profitability  \\\n",
      "3         When in Rome   Comedy       Disney                44            0.0   \n",
      "33  Our Family Wedding   Comedy  Independent                49            0.0   \n",
      "57           Jane Eyre  Romance    Universal                77            0.0   \n",
      "\n",
      "    Rotten Tomatoes % Worldwide Gross  Year  \n",
      "3                  15         $43.04   2010  \n",
      "33                 14         $21.37   2010  \n",
      "57                 85         $30.15   2011  \n"
     ]
    }
   ],
   "source": [
    "lowest_score = data[data['Profitability'] == data['Profitability'].min()]\n",
    "print(lowest_score)"
   ]
  },
  {
   "cell_type": "code",
   "execution_count": 48,
   "id": "b8d60d39",
   "metadata": {},
   "outputs": [
    {
     "name": "stdout",
     "output_type": "stream",
     "text": [
      "2007\n"
     ]
    }
   ],
   "source": [
    "minn = data['Year'].min()\n",
    "print(minn)"
   ]
  },
  {
   "cell_type": "code",
   "execution_count": 49,
   "id": "4d6218df",
   "metadata": {},
   "outputs": [
    {
     "name": "stdout",
     "output_type": "stream",
     "text": [
      "2011\n"
     ]
    }
   ],
   "source": [
    "maximum = data['Year'].max()\n",
    "print(maximum)"
   ]
  },
  {
   "cell_type": "code",
   "execution_count": 50,
   "id": "6d93a2c1",
   "metadata": {},
   "outputs": [],
   "source": [
    "#THE END"
   ]
  }
 ],
 "metadata": {
  "kernelspec": {
   "display_name": "Python 3 (ipykernel)",
   "language": "python",
   "name": "python3"
  },
  "language_info": {
   "codemirror_mode": {
    "name": "ipython",
    "version": 3
   },
   "file_extension": ".py",
   "mimetype": "text/x-python",
   "name": "python",
   "nbconvert_exporter": "python",
   "pygments_lexer": "ipython3",
   "version": "3.11.3"
  }
 },
 "nbformat": 4,
 "nbformat_minor": 5
}
